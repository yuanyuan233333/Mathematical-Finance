{
  "nbformat": 4,
  "nbformat_minor": 0,
  "metadata": {
    "colab": {
      "provenance": [],
      "include_colab_link": true
    },
    "kernelspec": {
      "name": "python3",
      "display_name": "Python 3"
    },
    "language_info": {
      "name": "python"
    }
  },
  "cells": [
    {
      "cell_type": "markdown",
      "metadata": {
        "id": "view-in-github",
        "colab_type": "text"
      },
      "source": [
        "<a href=\"https://colab.research.google.com/github/yuanyuan233333/Mathematical-Finance/blob/main/Ex_session_greeks.ipynb\" target=\"_parent\"><img src=\"https://colab.research.google.com/assets/colab-badge.svg\" alt=\"Open In Colab\"/></a>"
      ]
    },
    {
      "cell_type": "markdown",
      "source": [
        "## EXERCISE SESSION: GREEKS\n",
        "\n",
        "EX 7.12 [RS]\n",
        "\n",
        "Consider an investment universe composed of a european call option with strike $K_1 = 8$ and maturity $T=1$ year written on a stock whose price is distributed as a $\\log$-normal with $S_0 = 8$, $\\sigma = 40\\%$ per year, and a european put option on the same underlying with strike $K_2 = 10$ and maturity $T=1$.\n",
        "The risk-free interest rate is $4\\%$ per year."
      ],
      "metadata": {
        "id": "NnqiGadVnvSj"
      }
    },
    {
      "cell_type": "code",
      "execution_count": null,
      "metadata": {
        "id": "HpCmYUOHqIPE"
      },
      "outputs": [],
      "source": [
        "import numpy as np\n",
        "from scipy.stats import norm # function for gaussian pdf and cdf"
      ]
    },
    {
      "cell_type": "markdown",
      "source": [
        "1. After having computed the Delta of the Call option (denoted by $\\Delta_1$) and of the Put option ($\\Delta_2$), find the number of shares of the stock sold to make $\\Delta$-neutral a portfolio PORT1 consisting in four short positions in the Call option and in a long position in the Put option."
      ],
      "metadata": {
        "id": "PQ-DXGX-o9uN"
      }
    },
    {
      "cell_type": "code",
      "source": [
        "k1 = 8 # strike 1\n",
        "k2 = 10 # strike 2\n",
        "\n",
        "T = 1\n",
        "s0 = 8\n",
        "sigma = 0.4\n",
        "r = 0.04"
      ],
      "metadata": {
        "id": "3t0Bg2FuqMrF"
      },
      "execution_count": null,
      "outputs": []
    },
    {
      "cell_type": "code",
      "source": [
        "# we compute the Δ of the options\n",
        "d1_1 = 1/(sigma*np.sqrt(T))*(np.log(s0/k1) + (r + 0.5*sigma*sigma)*T)\n",
        "\n",
        "d1_2 = 1/(sigma*np.sqrt(T))*(np.log(s0/k2) + (r + 0.5*sigma*sigma)*T)\n",
        "\n",
        "delta1 = norm.cdf(d1_1)\n",
        "delta2 = norm.cdf(d1_2) - 1\n",
        "print(f\"The two Δ are given by: {delta1, delta2}\")"
      ],
      "metadata": {
        "colab": {
          "base_uri": "https://localhost:8080/"
        },
        "id": "EXUulLFSqf-V",
        "outputId": "c1eae161-ad67-4b51-f72e-cc38c0b4fd06"
      },
      "execution_count": null,
      "outputs": [
        {
          "output_type": "stream",
          "name": "stdout",
          "text": [
            "The two Δ are given by: (0.6179114221889527, -0.6017420888970395)\n"
          ]
        }
      ]
    },
    {
      "cell_type": "code",
      "source": [
        "# compute the Δ value of the portfolio\n",
        "delta_pf1 = -4*delta1 + delta2\n",
        "\n",
        "print(f\"delta of PORT1 is: {delta_pf1}\")"
      ],
      "metadata": {
        "colab": {
          "base_uri": "https://localhost:8080/"
        },
        "id": "GaghEsOjrAn6",
        "outputId": "479050f3-ee56-408b-de87-efae5ed80062"
      },
      "execution_count": null,
      "outputs": [
        {
          "output_type": "stream",
          "name": "stdout",
          "text": [
            "delta of PORT1 is: -3.07338777765285\n"
          ]
        }
      ]
    },
    {
      "cell_type": "code",
      "source": [
        "# we make it delta-neutral by adding the stock\n",
        "x_s = 4*delta1 - delta2\n",
        "\n",
        "print(f\"the size of the position in the stock to make the portfolio Δ-neutral is: {x_s}\")"
      ],
      "metadata": {
        "colab": {
          "base_uri": "https://localhost:8080/"
        },
        "id": "Y4mJhSY-sSXa",
        "outputId": "a7e3dd88-c280-4c6c-c7f7-0b58985cb25a"
      },
      "execution_count": null,
      "outputs": [
        {
          "output_type": "stream",
          "name": "stdout",
          "text": [
            "the size of the position in the stock to make the portfolio Δ-neutral is: 3.07338777765285\n"
          ]
        }
      ]
    },
    {
      "cell_type": "code",
      "source": [
        "# compute the Δ value of the adjusted portfolio\n",
        "delta_apf1 = delta_pf1 + x_s\n",
        "\n",
        "print(f\"delta of PORT1 adjusted is: {delta_apf1}\")"
      ],
      "metadata": {
        "colab": {
          "base_uri": "https://localhost:8080/"
        },
        "id": "hhIqnu4DsZIM",
        "outputId": "6b4584de-f71f-430f-cb0a-613fad7e4b83"
      },
      "execution_count": null,
      "outputs": [
        {
          "output_type": "stream",
          "name": "stdout",
          "text": [
            "delta of PORT1 adjusted is: 0.0\n"
          ]
        }
      ]
    },
    {
      "cell_type": "markdown",
      "source": [
        "Suppose that a Call option with strike $K3=12$ written on the same stock as before is also available on the market."
      ],
      "metadata": {
        "id": "V-z0Ps2aqquf"
      }
    },
    {
      "cell_type": "markdown",
      "source": [
        "(a) Compute Delta and Gamma ($\\Delta_3$ and $\\Gamma_3$) of the new option."
      ],
      "metadata": {
        "id": "D0UYPAS9q3dg"
      }
    },
    {
      "cell_type": "code",
      "source": [
        "k3 = 12\n",
        "\n",
        "# we compute the Δ and Γ of this new option\n",
        "\n",
        "d1_3 = 1/(sigma*np.sqrt(T))*(np.log(s0/k3) + (r + 0.5*sigma*sigma)*T)\n",
        "\n",
        "delta3 = norm.cdf(d1_3)\n",
        "\n",
        "gamma3 = norm.pdf(d1_3)*(1/(sigma*np.sqrt(T)*s0))\n",
        "\n",
        "print(f\"The values of Δ and Γ are, respectively: {delta3, gamma3}\")"
      ],
      "metadata": {
        "colab": {
          "base_uri": "https://localhost:8080/"
        },
        "id": "qHBNOMiXsi7g",
        "outputId": "89e047a4-002b-4fb3-bb23-024b24af03e0"
      },
      "execution_count": null,
      "outputs": [
        {
          "output_type": "stream",
          "name": "stdout",
          "text": [
            "The values of Δ and Γ are, respectively: (0.23771786645718546, 0.09664153919273043)\n"
          ]
        }
      ]
    },
    {
      "cell_type": "markdown",
      "source": [
        "(b) Explain how to make Delta- and Gamma-neutral a short position in the first Call option."
      ],
      "metadata": {
        "id": "AIcfznCirVTo"
      }
    },
    {
      "cell_type": "code",
      "source": [
        "# we make a short position in the first call option delta- and gamma-neutral\n",
        "\n",
        "# Γ of the first call option is\n",
        "gamma1 = norm.pdf(d1_1)*(1/(sigma*np.sqrt(T)*s0))\n",
        "\n",
        "# we compute the size of the position in the third call option needed to make the portfolio Γ-neutral\n",
        "x_g = gamma1/gamma3\n",
        "print(f\"the size of the position in the call to make the portfolio Γ-neutral is: {x_g}\")"
      ],
      "metadata": {
        "colab": {
          "base_uri": "https://localhost:8080/"
        },
        "id": "LyvC9lS0tDE5",
        "outputId": "85b4e9ae-9f85-47bb-c21d-2095ef42f13a"
      },
      "execution_count": null,
      "outputs": [
        {
          "output_type": "stream",
          "name": "stdout",
          "text": [
            "the size of the position in the call to make the portfolio Γ-neutral is: 1.2332553198860787\n"
          ]
        }
      ]
    },
    {
      "cell_type": "code",
      "source": [
        "# the new gamma adjusted position should be gamma-neutral\n",
        "gamma_pf = -gamma1 + x_g * gamma3\n",
        "print(f\"The Γ of the adjusted portfolio now is: {gamma_pf}\")"
      ],
      "metadata": {
        "colab": {
          "base_uri": "https://localhost:8080/"
        },
        "id": "92YI8a2RtpKv",
        "outputId": "5d47e829-4e97-406e-8e79-e279819b7f49"
      },
      "execution_count": null,
      "outputs": [
        {
          "output_type": "stream",
          "name": "stdout",
          "text": [
            "The Γ of the adjusted portfolio now is: 0.0\n"
          ]
        }
      ]
    },
    {
      "cell_type": "code",
      "source": [
        "# we make it also delta-neutral by taking a position in the stock of x_s\n",
        "x_s = delta1 - x_g*delta3\n",
        "\n",
        "print(f\"the size of the position in the stock to make the portfolio Δ-neutral is: {x_s}\")"
      ],
      "metadata": {
        "colab": {
          "base_uri": "https://localhost:8080/"
        },
        "id": "tMhxyDGRvMdf",
        "outputId": "398b7692-a63b-4ece-f467-cc159f827b39"
      },
      "execution_count": null,
      "outputs": [
        {
          "output_type": "stream",
          "name": "stdout",
          "text": [
            "the size of the position in the stock to make the portfolio Δ-neutral is: 0.3247445987486603\n"
          ]
        }
      ]
    },
    {
      "cell_type": "code",
      "source": [
        "# the new delta adjusted position should be gamma-neutral AND delta-neutral\n",
        "delta_pf = -delta1 + x_g*delta3 + x_s\n",
        "print(f\"The delta of the adjusted portfolio now is: {delta_pf}\")"
      ],
      "metadata": {
        "colab": {
          "base_uri": "https://localhost:8080/"
        },
        "id": "LlCZqjCjsLGM",
        "outputId": "2a6d65fe-596e-4a81-ceba-28bf80ec7c3a"
      },
      "execution_count": null,
      "outputs": [
        {
          "output_type": "stream",
          "name": "stdout",
          "text": [
            "The delta of the adjusted portfolio now is: 0.0\n"
          ]
        }
      ]
    },
    {
      "cell_type": "code",
      "source": [
        "# what if we add a put option instead of a call option\n",
        "gamma3_put = norm.pdf(d1_3)*(1/(sigma*np.sqrt(T)*s0))\n",
        "\n",
        "print(f\"Observer that the Γ-values of two corresponding put and call options is equal: {gamma3, gamma3_put}\")"
      ],
      "metadata": {
        "colab": {
          "base_uri": "https://localhost:8080/"
        },
        "id": "iDwKe3EVt_Jp",
        "outputId": "89e58637-993a-4709-9844-ddc21097ac41"
      },
      "execution_count": null,
      "outputs": [
        {
          "output_type": "stream",
          "name": "stdout",
          "text": [
            "Observer that the Γ-values of two corresponding put and call options is equal: (0.09664153919273043, 0.09664153919273043)\n"
          ]
        }
      ]
    },
    {
      "cell_type": "markdown",
      "source": [
        "3. Establish whether it is possible to make the portfolio PORT1 Delta-,Gamma- and Vega-neutral when a third Put option with strike $K4=6$ and written on the same stock is also available. If yes, show how."
      ],
      "metadata": {
        "id": "sLLl5v2ms2lZ"
      }
    },
    {
      "cell_type": "code",
      "source": [
        "# we make PORT1 delta-, gamma- and vega-neutral with a third put option with strike k4=6\n",
        "k4 = 6\n",
        "\n",
        "d1_4 = 1/(sigma*np.sqrt(T))*(np.log(s0/k4) + (r + 0.5*sigma*sigma)*T)\n",
        "\n",
        "delta4 = norm.cdf(d1_4) - 1\n",
        "gamma4 = norm.pdf(d1_4)*(1/(sigma*np.sqrt(T)*s0))\n",
        "\n",
        "# compute gamma of the first put option\n",
        "gamma2 = norm.pdf(-d1_2)*(1/(sigma*np.sqrt(T)*s0))\n",
        "\n",
        "print(f\"The values of Δ and Γ are, respectively: {delta4, gamma4}\")"
      ],
      "metadata": {
        "id": "N2vxqjNsuVjL",
        "colab": {
          "base_uri": "https://localhost:8080/"
        },
        "outputId": "fd2a737a-0139-40aa-89f7-d8b1da27855a"
      },
      "execution_count": null,
      "outputs": [
        {
          "output_type": "stream",
          "name": "stdout",
          "text": [
            "The values of Δ and Γ are, respectively: (-0.15405278372437214, 0.07416381296720245)\n"
          ]
        }
      ]
    },
    {
      "cell_type": "code",
      "source": [
        "# compute all of the vega\n",
        "vega1 = s0*s0*sigma*T*gamma1\n",
        "vega2 = s0*s0*sigma*T*gamma2\n",
        "vega3 = s0*s0*sigma*T*gamma3\n",
        "vega4 = s0*s0*sigma*T*gamma4"
      ],
      "metadata": {
        "id": "lDb6h5NGeu9X"
      },
      "execution_count": null,
      "outputs": []
    },
    {
      "cell_type": "code",
      "source": [
        "# we compute the size of the position in the third put to make the portfolio gamma- and vega-neutral\n",
        "xg1 = (4*gamma1 - gamma2)/gamma4\n",
        "\n",
        "print(f\"the size of the position in the third put option to make the portfolio Γ-neutral is: {xg1}\")"
      ],
      "metadata": {
        "colab": {
          "base_uri": "https://localhost:8080/"
        },
        "id": "ShE_FMkbvsKo",
        "outputId": "89acf1c9-22c8-47cc-e777-9eeb5a786415"
      },
      "execution_count": null,
      "outputs": [
        {
          "output_type": "stream",
          "name": "stdout",
          "text": [
            "the size of the position in the third put option to make the portfolio Γ-neutral is: 4.802097736103965\n"
          ]
        }
      ]
    },
    {
      "cell_type": "code",
      "source": [
        "# we check that this portfolio is Γ-netrual\n",
        "\n",
        "gamma_pf2 = -4*gamma1 + gamma2 + xg1*gamma4\n",
        "print(f\"the Γ-value of the portfolio now is: {gamma_pf2}\")"
      ],
      "metadata": {
        "colab": {
          "base_uri": "https://localhost:8080/"
        },
        "id": "DJmirjf8wJT-",
        "outputId": "0b68bf3c-c6af-4c74-f80b-b638623bac7e"
      },
      "execution_count": null,
      "outputs": [
        {
          "output_type": "stream",
          "name": "stdout",
          "text": [
            "the Γ-value of the portfolio now is: 0.0\n"
          ]
        }
      ]
    },
    {
      "cell_type": "markdown",
      "source": [
        "We observed in class that $\\nu = S_0^2 \\sigma T \\Gamma$, hence whenever the $\\Gamma$ of the portfolio is null so is its value of $\\nu$. We are left to the $\\Delta$-neutralization of the portfolio."
      ],
      "metadata": {
        "id": "1HqAu3RfwY3f"
      }
    },
    {
      "cell_type": "code",
      "source": [
        "# we add a stock position in order to Δ-hedge the original position\n",
        "xs1 = 4*delta1 - delta2 - xg1 * delta4\n",
        "\n",
        "print(f\"the size of the position in the stock to make the portfolio Δ-neutral is: {xs1}\")"
      ],
      "metadata": {
        "colab": {
          "base_uri": "https://localhost:8080/"
        },
        "id": "d1nzSUVbwqnT",
        "outputId": "c7f34640-4064-41a6-8192-d1e3af7046c7"
      },
      "execution_count": null,
      "outputs": [
        {
          "output_type": "stream",
          "name": "stdout",
          "text": [
            "the size of the position in the stock to make the portfolio Δ-neutral is: 3.813164301616171\n"
          ]
        }
      ]
    },
    {
      "cell_type": "markdown",
      "source": [
        "(d) Would this be still possible if we were forced to buy/sell at least one option with strike $K_3$ and at least one option with strike $K_4$?"
      ],
      "metadata": {
        "id": "PgArPZvpzNHG"
      }
    },
    {
      "cell_type": "markdown",
      "source": [
        "We have shown in the notes that there exist infinitely many choices of x3 (or x4) and x4 (resp. x3) is then a function of the other."
      ],
      "metadata": {
        "id": "wW9ACxCAvQVA"
      }
    },
    {
      "cell_type": "code",
      "source": [
        "# For a given value of x4 we can compute x3 as follows\n",
        "\n",
        "def x3_func(x4):\n",
        "  return (4*gamma1 - gamma2 - x4*gamma4)/gamma3\n",
        "\n",
        "# we set x4 = 1 so to satisfy the constraint\n",
        "x4 = 1\n",
        "\n",
        "x3 = x3_func(x4)\n",
        "\n",
        "print(f\"Given the value of x4, the size of the position in the third option to make the portfolio Γ-neutral is: {x3}\")"
      ],
      "metadata": {
        "colab": {
          "base_uri": "https://localhost:8080/"
        },
        "id": "QOTTTor4xawt",
        "outputId": "c7dc7df1-720d-44fc-b688-9e2f807998e2"
      },
      "execution_count": null,
      "outputs": [
        {
          "output_type": "stream",
          "name": "stdout",
          "text": [
            "Given the value of x4, the size of the position in the third option to make the portfolio Γ-neutral is: 2.9177729135821684\n"
          ]
        }
      ]
    },
    {
      "cell_type": "code",
      "source": [
        "# now PORT1 is gamma-neutral\n",
        "gamma_gapf = -4*gamma1 + gamma2 + x3*gamma3 + x4*gamma4\n",
        "print(f\"The Γ-value of the adjusted portfolio now is: {gamma_gapf}\")"
      ],
      "metadata": {
        "colab": {
          "base_uri": "https://localhost:8080/"
        },
        "id": "yV5rM7z6xq1U",
        "outputId": "156e3eed-0f61-45f3-9ea9-535d4efea744"
      },
      "execution_count": null,
      "outputs": [
        {
          "output_type": "stream",
          "name": "stdout",
          "text": [
            "The Γ-value of the adjusted portfolio now is: 2.7755575615628914e-17\n"
          ]
        }
      ]
    },
    {
      "cell_type": "code",
      "source": [
        "# we check if the portfolio constructed like this is already vega-neutral\n",
        "vega1 = s0*s0*sigma*T*gamma1\n",
        "vega2 = s0*s0*sigma*T*gamma2\n",
        "vega3 = s0*s0*sigma*T*gamma3\n",
        "vega4 = s0*s0*sigma*T*gamma4\n",
        "\n",
        "vega_gapf = -4*vega1 + vega2 + x3*vega3 + x4*vega4\n",
        "print(f\"The v-value of the portfolio is: {vega_gapf}\")"
      ],
      "metadata": {
        "colab": {
          "base_uri": "https://localhost:8080/"
        },
        "id": "qK-1gsCkyNDh",
        "outputId": "4474aad2-2439-460b-8914-18ebf7c58c25"
      },
      "execution_count": null,
      "outputs": [
        {
          "output_type": "stream",
          "name": "stdout",
          "text": [
            "The v-value of the portfolio is: -8.881784197001252e-16\n"
          ]
        }
      ]
    },
    {
      "cell_type": "code",
      "source": [
        "# we finally make the portfolio delta-neutral\n",
        "\n",
        "x_s = 4*delta1 - delta2 - x3*delta3 -x4*delta4\n",
        "\n",
        "print(f\"The size of the position in the stock needed to make the portfolio Δ-neutral is: {x_s}\")"
      ],
      "metadata": {
        "colab": {
          "base_uri": "https://localhost:8080/"
        },
        "id": "FZCgD0jLzbgi",
        "outputId": "8edf7a98-4eba-4efd-9447-79a6cf9862ce"
      },
      "execution_count": null,
      "outputs": [
        {
          "output_type": "stream",
          "name": "stdout",
          "text": [
            "The size of the position in the stock needed to make the portfolio Δ-neutral is: 2.533833809553903\n"
          ]
        }
      ]
    },
    {
      "cell_type": "code",
      "source": [
        "# check delta-neutrality\n",
        "delta_gapf = - 4*delta1 + delta2 + x3*delta3 + x4*delta4 + x_s\n",
        "print(f\"The Δ of the portfolio is: {delta_gapf}\")"
      ],
      "metadata": {
        "colab": {
          "base_uri": "https://localhost:8080/"
        },
        "id": "btTBYAq7117i",
        "outputId": "16ea8b63-c84f-43a6-94f4-bce7b11e89a3"
      },
      "execution_count": null,
      "outputs": [
        {
          "output_type": "stream",
          "name": "stdout",
          "text": [
            "The Δ of the portfolio is: 0.0\n"
          ]
        }
      ]
    },
    {
      "cell_type": "code",
      "source": [],
      "metadata": {
        "id": "UiKIbPeMhzb5"
      },
      "execution_count": null,
      "outputs": []
    }
  ]
}