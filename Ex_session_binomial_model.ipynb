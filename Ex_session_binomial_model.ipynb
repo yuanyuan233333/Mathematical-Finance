{
  "nbformat": 4,
  "nbformat_minor": 0,
  "metadata": {
    "colab": {
      "provenance": [],
      "include_colab_link": true
    },
    "kernelspec": {
      "name": "python3",
      "display_name": "Python 3"
    },
    "language_info": {
      "name": "python"
    }
  },
  "cells": [
    {
      "cell_type": "markdown",
      "metadata": {
        "id": "view-in-github",
        "colab_type": "text"
      },
      "source": [
        "<a href=\"https://colab.research.google.com/github/yuanyuan233333/Mathematical-Finance/blob/main/Ex_session_binomial_model.ipynb\" target=\"_parent\"><img src=\"https://colab.research.google.com/assets/colab-badge.svg\" alt=\"Open In Colab\"/></a>"
      ]
    },
    {
      "cell_type": "markdown",
      "source": [
        "## EXERCISE SESSION: BINOMIAL MODEL\n",
        "\n",
        "A Stock A is available on the market at the current price of 12 Euros. in 4 months, such price may move up to 16 or down to 10 euros. In each of the next 4-months periods, the stock price may increase or decrease by the same percentage as in the previous period. The risk-free interest rate on the market is 4% per year.\n",
        "Consider also a stock B whose price is the square of the price of stock A at any time."
      ],
      "metadata": {
        "id": "rnRDPU0WtIim"
      }
    },
    {
      "cell_type": "markdown",
      "source": [
        "(2) Compute the current price of a european put option on stock B with maturity 8 months and strike $K = 144$."
      ],
      "metadata": {
        "id": "9eGYKs1bt1Tb"
      }
    },
    {
      "cell_type": "code",
      "execution_count": null,
      "metadata": {
        "id": "KCHlqgqrtGQz"
      },
      "outputs": [],
      "source": [
        "# set the parameters\n",
        "\n",
        "# stock A\n",
        "s0 = 12 # initial price\n",
        "u = 16/12 # up factor\n",
        "d = 10/12 # down factor\n",
        "\n",
        "s1_u = s0*u # price in case of up-move\n",
        "s1_d = s0*d # price in case of down-move"
      ]
    },
    {
      "cell_type": "code",
      "source": [
        "# stock B\n",
        "\n",
        "# We use upper case variables to distinguish between stock A and stock B\n",
        "\n",
        "S0 = 12**2 # initial price\n",
        "\n",
        "S1_u = s1_u**2 # price in case of up-move\n",
        "S1_d = s1_d**2 # price in case of down-move\n",
        "\n",
        "U = S1_u/S0 # up factor\n",
        "D = S1_d/S0 # down factor"
      ],
      "metadata": {
        "id": "DujDFj7IuVm4"
      },
      "execution_count": null,
      "outputs": []
    },
    {
      "cell_type": "code",
      "source": [
        "r = 0.04 # yearly interest rate\n",
        "R = (1+r)**(1/3) - 1 # interest rate per 4-month period\n",
        "\n",
        "K = 144 # strike price"
      ],
      "metadata": {
        "id": "TOs278fCur2q"
      },
      "execution_count": null,
      "outputs": []
    },
    {
      "cell_type": "markdown",
      "source": [
        "To compute the put option price we need to compute first the payoffs of the put option at maturity and the risk neutral probabilites of the events."
      ],
      "metadata": {
        "id": "jC60y8DPvRlJ"
      }
    },
    {
      "cell_type": "code",
      "source": [
        "# maturity is in two periods (8 months)\n",
        "\n",
        "# the possible outcomes are S0*U*U, S0*U*D, S0*D*U, S0*D*D\n",
        "S0_UU = S0*U*U\n",
        "S0_UD = S0*U*D\n",
        "S0_DU = S0*D*U\n",
        "S0_DD = S0*D*D\n",
        "\n",
        "print(f'Possible T=2 outcomes: {[S0_UU, S0_UD, S0_DU, S0_DD]}')"
      ],
      "metadata": {
        "colab": {
          "base_uri": "https://localhost:8080/"
        },
        "id": "BgFHojVSuvFF",
        "outputId": "bba0d03c-3ab4-4add-e56e-f8f098a4d061"
      },
      "execution_count": null,
      "outputs": [
        {
          "output_type": "stream",
          "name": "stdout",
          "text": [
            "Possible T=2 outcomes: [455.1111111111111, 177.77777777777777, 177.77777777777777, 69.44444444444444]\n"
          ]
        }
      ]
    },
    {
      "cell_type": "code",
      "source": [
        "# we compute the payoffs of the option\n",
        "\n",
        "def put_payoff(st, k):\n",
        "  return max(0, k-st)\n",
        "\n",
        "payoff_uu = put_payoff(S0_UU, K)\n",
        "payoff_ud = put_payoff(S0_UD, K)\n",
        "payoff_du = put_payoff(S0_DU, K)\n",
        "payoff_dd = put_payoff(S0_DD, K)\n",
        "\n",
        "print(f'Possible T=2 payoffs: {[payoff_uu, payoff_ud, payoff_du, payoff_dd]}')"
      ],
      "metadata": {
        "colab": {
          "base_uri": "https://localhost:8080/"
        },
        "id": "fk_fMjWsuwbB",
        "outputId": "d6056710-5b6a-4b48-b3f7-6263cf094b9b"
      },
      "execution_count": null,
      "outputs": [
        {
          "output_type": "stream",
          "name": "stdout",
          "text": [
            "Possible T=2 payoffs: [0, 0, 0, 74.55555555555556]\n"
          ]
        }
      ]
    },
    {
      "cell_type": "markdown",
      "source": [
        "Recall that the risk netrual probabilities are computed as\n",
        "$$\n",
        "\\begin{cases}\n",
        "q_u = \\frac{(1+R) - d}{u - d}\\\\\n",
        "q_d = \\frac{u - (1+R)}{u - d}\n",
        "\\end{cases}\n",
        "$$"
      ],
      "metadata": {
        "id": "-PmjJ2dlwpOE"
      }
    },
    {
      "cell_type": "code",
      "source": [
        "# compute the risk netrual probabilities\n",
        "\n",
        "qu = (1 + R - D)/(U - D)\n",
        "qd = 1 - qu\n",
        "\n",
        "print(f'qu is {qu}, qd is {qd}')"
      ],
      "metadata": {
        "colab": {
          "base_uri": "https://localhost:8080/"
        },
        "id": "0TzLEsBLwkzi",
        "outputId": "d977e9a3-4088-40f2-e718-34eed0ff5c7d"
      },
      "execution_count": null,
      "outputs": [
        {
          "output_type": "stream",
          "name": "stdout",
          "text": [
            "qu is 0.294198424039138, qd is 0.705801575960862\n"
          ]
        }
      ]
    },
    {
      "cell_type": "code",
      "source": [
        "# check that the risk-neutral probabilities make the discounted price a martingale (up to some machine error)\n",
        "\n",
        "print((1/(1+R))*(qu*S0*U + qd*S0*D))"
      ],
      "metadata": {
        "colab": {
          "base_uri": "https://localhost:8080/"
        },
        "id": "mBkPWFFAx28L",
        "outputId": "1f3c0faa-13e7-474d-ba86-c4dbb6bf5fb3"
      },
      "execution_count": null,
      "outputs": [
        {
          "output_type": "stream",
          "name": "stdout",
          "text": [
            "143.99999999999997\n"
          ]
        }
      ]
    },
    {
      "cell_type": "code",
      "source": [
        "# compute the discounted expected payoff\n",
        "P0 = (payoff_uu*qu*qu + payoff_ud*qu*qd + payoff_du*qd*qu + payoff_dd*qd*qd)*1/((1+R)**2)\n",
        "\n",
        "print(f'The price of a european put option on Stock B with strike K={K} and maturity 8 months is: {P0}')"
      ],
      "metadata": {
        "colab": {
          "base_uri": "https://localhost:8080/"
        },
        "id": "11-VWUVqxO71",
        "outputId": "269cd1e6-15ec-405a-acf7-11a42ca2349e"
      },
      "execution_count": null,
      "outputs": [
        {
          "output_type": "stream",
          "name": "stdout",
          "text": [
            "The price of a european put option on Stock B with strike K=144 and maturity 8 months is: 36.181760844671416\n"
          ]
        }
      ]
    },
    {
      "cell_type": "markdown",
      "source": [
        "(3) Find the replicating strategy of the european put option and verify that the price of the replicating portfolio is in line with the result found in (2)."
      ],
      "metadata": {
        "id": "-EE2aT3mcLjC"
      }
    },
    {
      "cell_type": "code",
      "source": [
        "# binomial tree for S0\n",
        "#                                   PUT OPTION PAYOFF (K = 144)\n",
        "#                                  |\n",
        "#              / S0*U*U = 4096/9   |      0\n",
        "#             /                    |\n",
        "#    /(A) S0*U                     |\n",
        "#   /         \\                    |\n",
        "# S0             S0*U*D = 1600/9   |      0\n",
        "#   \\         /                    |\n",
        "#    \\(B) S0*D                     |\n",
        "#             \\                    |\n",
        "#              \\ S0*D*D = 625/9    |     671/9"
      ],
      "metadata": {
        "id": "axOmW3Vub-vH"
      },
      "execution_count": null,
      "outputs": []
    },
    {
      "cell_type": "markdown",
      "source": [
        "Starting at t=1, we place ourselves on each of the two nodes and we construct a portfolio that replicates the payoff at t=2 from that particular node."
      ],
      "metadata": {
        "id": "ltfqwU9YHHB_"
      }
    },
    {
      "cell_type": "markdown",
      "source": [
        "Suppose we are at node (B). We wish to construct a strategy $h$ such that in case of up-movement the value of the portfolio is 0, and in case of down-movement the value is $\\frac{671}{9}$.\n",
        "Denoting by $(x,y)$ the number of bonds and stocks respectively, we have\n",
        "$$\n",
        "\\begin{cases}\n",
        "x(1+R) + y S_0 UD = 0 \\\\\n",
        "x(1+R) + y S_0 D^2 = \\frac{671}{9}\n",
        "\\end{cases}\n",
        "$$\n",
        "Solving the following linear system yields\n",
        "$$\n",
        "y = \\frac{671}{9S_0D(D - U)}, \\;\\;\\;\\;\\;\\;\\;\\;\n",
        "x = - \\frac{y S_0 U D}{(1+R)}\n",
        "$$"
      ],
      "metadata": {
        "id": "0C5aaxNaHrWJ"
      }
    },
    {
      "cell_type": "code",
      "source": [
        "y = payoff_dd/(S0*D*(D - U))\n",
        "x = -(y * S0*U*D)/(1+R)\n",
        "\n",
        "print(f'The replicating strategy in node B is: {(x,y)}')"
      ],
      "metadata": {
        "colab": {
          "base_uri": "https://localhost:8080/"
        },
        "id": "pnKl1CBFGttM",
        "outputId": "68bb0bde-f574-4f99-adbd-87fbc5e5f3ef"
      },
      "execution_count": null,
      "outputs": [
        {
          "output_type": "stream",
          "name": "stdout",
          "text": [
            "The replicating strategy in node B is: (120.75846889073881, -0.6882051282051282)\n"
          ]
        }
      ]
    },
    {
      "cell_type": "code",
      "source": [
        "# check that indeed the strategy replicates the payoff\n",
        "\n",
        "print(f'Payoff in case of up-movement:{x*(1+R) + y*S0*D*U}') # very close to zero\n",
        "print(f'Payoff in case of down-movement:{x*(1+R) + y*S0*D*D}')"
      ],
      "metadata": {
        "colab": {
          "base_uri": "https://localhost:8080/"
        },
        "id": "xuRPQdOsJkos",
        "outputId": "4720230d-79dc-4731-ea93-c21ceb06ebce"
      },
      "execution_count": null,
      "outputs": [
        {
          "output_type": "stream",
          "name": "stdout",
          "text": [
            "Payoff in case of up-movement:1.4210854715202004e-14\n",
            "Payoff in case of down-movement:74.55555555555556\n"
          ]
        }
      ]
    },
    {
      "cell_type": "code",
      "source": [
        "# compute the value of the portfolio in B\n",
        "V1_b = x + y * S0 * D\n",
        "print(f'The value of the replicating portfolio in node B is: {V1_b}')"
      ],
      "metadata": {
        "colab": {
          "base_uri": "https://localhost:8080/"
        },
        "id": "Md8mGLk0J6yJ",
        "outputId": "9cb8418f-12f9-4214-80f8-8d20d79911b0"
      },
      "execution_count": null,
      "outputs": [
        {
          "output_type": "stream",
          "name": "stdout",
          "text": [
            "The value of the replicating portfolio in node B is: 51.937956070225994\n"
          ]
        }
      ]
    },
    {
      "cell_type": "markdown",
      "source": [
        "Clearly, in node A, whatever the next movement of the underlying the payoff is zero and hence also the replicating portfolio will have a zero value.\n",
        "\n",
        "We now compute the value of the replicating portfolio at the beginning of the trading period, t=0.\n",
        "We wish to find $(x,y)$ such that\n",
        "$$\n",
        "\\begin{cases}\n",
        "x(1+R) + y S_0 U = 0 \\\\\n",
        "x(1+R) + y S_0 D = 51.938\n",
        "\\end{cases}\n",
        "$$"
      ],
      "metadata": {
        "id": "j124op0SKKtZ"
      }
    },
    {
      "cell_type": "code",
      "source": [
        "y = V1_b/(S0*(D - U))\n",
        "x = -(y * S0 * U)/(1 + R)\n",
        "\n",
        "print(f'The replicating strategy in t = 0 is: {(x,y)}')"
      ],
      "metadata": {
        "colab": {
          "base_uri": "https://localhost:8080/"
        },
        "id": "D2Xgk0RpKdLS",
        "outputId": "cc92fe6b-a90a-4d4b-f22b-d3ceec925ac6"
      },
      "execution_count": null,
      "outputs": [
        {
          "output_type": "stream",
          "name": "stdout",
          "text": [
            "The replicating strategy in t = 0 is: (84.12448952488, -0.332935615834782)\n"
          ]
        }
      ]
    },
    {
      "cell_type": "code",
      "source": [
        "# compute the value of the repliocating portfolio in t=0\n",
        "V0 = x + y * S0\n",
        "print(f'The value of the replicating portfolio in t=0 is: {V0}')"
      ],
      "metadata": {
        "colab": {
          "base_uri": "https://localhost:8080/"
        },
        "id": "rZlp1GAPLEs_",
        "outputId": "fa106d77-eb04-4cc9-f93a-ad6c37456e64"
      },
      "execution_count": null,
      "outputs": [
        {
          "output_type": "stream",
          "name": "stdout",
          "text": [
            "The value of the replicating portfolio in t=0 is: 36.1817608446714\n"
          ]
        }
      ]
    },
    {
      "cell_type": "markdown",
      "source": [
        "Which corresponds exactly with the value of the put option computed in point (2) of the exercise"
      ],
      "metadata": {
        "id": "Wct3oFURLRME"
      }
    },
    {
      "cell_type": "markdown",
      "source": [
        "(4) Compare the above put with a siilar put option on stock  A with strike $K=12$. Which is more expensive?"
      ],
      "metadata": {
        "id": "ToFUHa7XzSPz"
      }
    },
    {
      "cell_type": "code",
      "source": [
        "# different strike\n",
        "k = 12\n",
        "\n",
        "# maturity is in two periods (8 months)\n",
        "\n",
        "# the possible outcomes are s0*u*u, s0*u*d, s0*d*u, s0*d*d\n",
        "s0_uu = s0*u*u\n",
        "s0_ud = s0*u*d\n",
        "s0_du = s0*d*u\n",
        "s0_dd = s0*d*d\n",
        "\n",
        "print(f'Possible T=2 outcomes: {[s0_uu, s0_ud, s0_du, s0_dd]}')"
      ],
      "metadata": {
        "colab": {
          "base_uri": "https://localhost:8080/"
        },
        "id": "HiOERbFYxkVj",
        "outputId": "8fe7c8a5-fcf1-4021-a8a8-fbfd2123a725"
      },
      "execution_count": null,
      "outputs": [
        {
          "output_type": "stream",
          "name": "stdout",
          "text": [
            "Possible T=2 outcomes: [21.333333333333332, 13.333333333333334, 13.333333333333332, 8.333333333333334]\n"
          ]
        }
      ]
    },
    {
      "cell_type": "code",
      "source": [
        "# compute the payoffs of the option\n",
        "\n",
        "payoffA_uu = put_payoff(s0_uu, k)\n",
        "payoffA_ud = put_payoff(s0_ud, k)\n",
        "payoffA_du = put_payoff(s0_du, k)\n",
        "payoffA_dd = put_payoff(s0_dd, k)\n",
        "\n",
        "print(f'Possible T=2 payoffs: {[payoffA_uu, payoffA_ud, payoffA_du, payoffA_dd]}')"
      ],
      "metadata": {
        "colab": {
          "base_uri": "https://localhost:8080/"
        },
        "id": "U-kgYlknzq7Q",
        "outputId": "a996e4d2-350a-412c-e140-636e2bccac2c"
      },
      "execution_count": null,
      "outputs": [
        {
          "output_type": "stream",
          "name": "stdout",
          "text": [
            "Possible T=2 payoffs: [0, 0, 0, 3.666666666666666]\n"
          ]
        }
      ]
    },
    {
      "cell_type": "code",
      "source": [
        "# we compute the risk netrual probabilities\n",
        "\n",
        "quA = (1 + R - d)/(u - d)\n",
        "qdA = 1 - quA\n",
        "\n",
        "print(f'qu is {quA}, qd is {qdA}')"
      ],
      "metadata": {
        "colab": {
          "base_uri": "https://localhost:8080/"
        },
        "id": "OY8mxc7tz_sB",
        "outputId": "a57c7c9b-b16e-4855-dc40-856fa98abce6"
      },
      "execution_count": null,
      "outputs": [
        {
          "output_type": "stream",
          "name": "stdout",
          "text": [
            "qu is 0.35965214097368775, qd is 0.6403478590263123\n"
          ]
        }
      ]
    },
    {
      "cell_type": "code",
      "source": [
        "# check that the risk-neutral probabilities make the discounted price a martingale\n",
        "\n",
        "print((1/(1+R))*(quA*s0*u + qdA*s0*d))"
      ],
      "metadata": {
        "colab": {
          "base_uri": "https://localhost:8080/"
        },
        "id": "g2tY8_EM0GPO",
        "outputId": "1c18dcc1-2b3f-411f-fbed-c6de257a218e"
      },
      "execution_count": null,
      "outputs": [
        {
          "output_type": "stream",
          "name": "stdout",
          "text": [
            "12.0\n"
          ]
        }
      ]
    },
    {
      "cell_type": "code",
      "source": [
        "# we compute the discounted expected payoff\n",
        "p0 = (payoffA_uu*quA*quA + payoffA_ud*quA*qdA + payoffA_du*qdA*quA + payoffA_dd*qdA*qdA)*1/((1+R)**2)\n",
        "\n",
        "print(f'The price of a european put option on Stock A with strike K={k} and maturity 8 months is: {p0}')"
      ],
      "metadata": {
        "colab": {
          "base_uri": "https://localhost:8080/"
        },
        "id": "9rfRxXby0M3C",
        "outputId": "1ec445c6-bcae-4aba-c1ae-01f25c3ccf34"
      },
      "execution_count": null,
      "outputs": [
        {
          "output_type": "stream",
          "name": "stdout",
          "text": [
            "The price of a european put option on Stock A with strike K=12 and maturity 8 months is: 1.4646970084540387\n"
          ]
        }
      ]
    },
    {
      "cell_type": "markdown",
      "source": [
        "(5) Using the Put-Call Parity, deduce the prices of the corresponding European Call options."
      ],
      "metadata": {
        "id": "KKTgMQPMOk_w"
      }
    },
    {
      "cell_type": "markdown",
      "source": [
        "Recall that the put-call parity is the following equality\n",
        "$$\n",
        "C_0 - P_0 = S_0 - K(1+R)^{-T}\n",
        "$$\n",
        "Therefore, given the price of a put option $P_0$ we can compute the price of the corresponding call option $C_0$ with the same underlying, same strike $K$, same maturity $T$ as\n",
        "$$\n",
        "C_0 = P_0 + S_0 - K(1+R)^{-T}\n",
        "$$"
      ],
      "metadata": {
        "id": "AvHg_NHuOuDf"
      }
    },
    {
      "cell_type": "code",
      "source": [
        "# compute the price of a call option on stock B with maturity 8 months and strike K=144 on stock B\n",
        "C0 = P0 + S0 - K*((1+R)**(-2))\n",
        "print(f'The price of a european call option on Stock B with strike K={K} and maturity 8 months is: {C0}')"
      ],
      "metadata": {
        "colab": {
          "base_uri": "https://localhost:8080/"
        },
        "id": "5zrP6ufA0Za7",
        "outputId": "6b8b607e-d73d-415d-f0e9-117181ebdb21"
      },
      "execution_count": null,
      "outputs": [
        {
          "output_type": "stream",
          "name": "stdout",
          "text": [
            "The price of a european call option on Stock B with strike K=144 and maturity 8 months is: 39.89815108495458\n"
          ]
        }
      ]
    },
    {
      "cell_type": "code",
      "source": [
        "# compute the price of a call option on stock B with maturity 8 months and strike K=144 on stock B\n",
        "c0 = p0 + s0 - k*((1+R)**(-2))\n",
        "print(f'The price of a european call option on Stock A with strike K={k} and maturity 8 months is: {c0}')"
      ],
      "metadata": {
        "colab": {
          "base_uri": "https://localhost:8080/"
        },
        "id": "wbFm-PTNPjS-",
        "outputId": "e27187ef-d60e-4b2e-9ce0-3009846247f0"
      },
      "execution_count": null,
      "outputs": [
        {
          "output_type": "stream",
          "name": "stdout",
          "text": [
            "The price of a european call option on Stock A with strike K=12 and maturity 8 months is: 1.7743961951443001\n"
          ]
        }
      ]
    },
    {
      "cell_type": "code",
      "source": [],
      "metadata": {
        "id": "ek0Djs8XP0Kl"
      },
      "execution_count": null,
      "outputs": []
    }
  ]
}